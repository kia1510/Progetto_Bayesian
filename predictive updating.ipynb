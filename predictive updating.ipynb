{
 "cells": [
  {
   "cell_type": "markdown",
   "metadata": {},
   "source": [
    "# Computing samples from the predictive, each time updated"
   ]
  },
  {
   "cell_type": "code",
   "execution_count": 1,
   "metadata": {},
   "outputs": [],
   "source": [
    "def print_PT_predictive(ax, all_alpha, all_B, sample):\n",
    "\n",
    "    final_intervals = all_B[-1]\n",
    "    _, sampled_distribution = sample_from_polya_tree(all_alpha)\n",
    "\n",
    "    # Plot della densità empirica\n",
    "    kde = sns.kdeplot(sample, ax=ax, color='red', label='Densità empirica', linewidth=2)\n",
    "    \n",
    "    x_kde, y_kde = kde.get_lines()[0].get_data()  # Get x and y values from the Line2D object\n",
    "    interpolator = interp1d(x_kde, y_kde, kind='linear', bounds_error=False, fill_value=\"extrapolate\")\n",
    "    x_values = sample\n",
    "    y_values = interpolator(x_values)\n",
    "\n",
    "    ax.plot(x_values, y_values, 'ro')\n",
    "\n",
    "    # Plot della predittiva\n",
    "    sampled_distribution = compute_predictive(all_alpha, all_B)\n",
    "    widths = np.diff(final_intervals, axis=1).flatten()\n",
    "    area = np.sum(sampled_distribution * widths)\n",
    "    normalized_distribution = sampled_distribution / area\n",
    "    f = interp1d(x_points, normalized_distribution, kind='linear', fill_value=\"extrapolate\")\n",
    "    x_interp = np.linspace(final_intervals[0, 0], final_intervals[-1, 1], 100)\n",
    "    y_interp = f(x_interp)\n",
    "    ax.plot(x_interp, y_interp, alpha=1, color = \"black\", label = fr\"Predittiva $y_{{{len(sample)+1}}}$\")\n",
    "\n",
    "\n",
    "    # Aggiungi etichette e titolo\n",
    "    ax.plot()\n",
    "    ax.legend()\n",
    "    ax.grid()\n",
    "    \n",
    "    return sampled_distribution"
   ]
  },
  {
   "cell_type": "code",
   "execution_count": null,
   "metadata": {},
   "outputs": [],
   "source": [
    "final_sample_size = 12\n",
    "c = 1\n",
    "depth = 10\n",
    "\n",
    "fig, ax = plt.subplots(4,4, figsize = (18,18))\n",
    "\n",
    "sample = np.random.uniform(0, 1, 2)\n",
    "# sample = np.random.normal(0.5, 1/10, 2)       \n",
    "\n",
    "# I want to compute the predictive for a new data and sample from it, then repeat\n",
    "for i in range(4):\n",
    "    for j in range(4):\n",
    "        all_alpha, all_B = polya_tree_posterior(data = sample, c = c, depth = depth)\n",
    "        new_predictive = print_PT_predictive(ax[i,j], all_alpha, all_B, sample)\n",
    "        ax[i,j].set_title(f'n={len(sample)}')\n",
    "\n",
    "        new_obs = sample_from_categorical_distribution(all_B[-1], new_predictive, 1)   #sampling from the predictive\n",
    "\n",
    "        sample = np.append(sample, new_obs)\n",
    "        # sample = np.append(sample, new_obs)"
   ]
  }
 ],
 "metadata": {
  "kernelspec": {
   "display_name": "Python 3",
   "language": "python",
   "name": "python3"
  },
  "language_info": {
   "codemirror_mode": {
    "name": "ipython",
    "version": 3
   },
   "file_extension": ".py",
   "mimetype": "text/x-python",
   "name": "python",
   "nbconvert_exporter": "python",
   "pygments_lexer": "ipython3",
   "version": "3.10.7"
  }
 },
 "nbformat": 4,
 "nbformat_minor": 2
}
